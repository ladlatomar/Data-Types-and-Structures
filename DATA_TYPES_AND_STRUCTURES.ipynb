{
  "nbformat": 4,
  "nbformat_minor": 0,
  "metadata": {
    "colab": {
      "provenance": []
    },
    "kernelspec": {
      "name": "python3",
      "display_name": "Python 3"
    },
    "language_info": {
      "name": "python"
    }
  },
  "cells": [
    {
      "cell_type": "markdown",
      "source": [
        "#THEORY"
      ],
      "metadata": {
        "id": "WGFhnkepyeD_"
      }
    },
    {
      "cell_type": "markdown",
      "source": [],
      "metadata": {
        "id": "aBxhX6k6ydd3"
      }
    },
    {
      "cell_type": "markdown",
      "source": [
        "#1: What are data structures, and why are they important?\n",
        "ANS: Data structures are ways of organizing and storing data in a computer so that it can be accessed and modified efficiently.\n",
        "Efficiency: The right structure improves speed and memory usage.\n",
        "\n",
        "Scalability: Essential for handling large amounts of data.\n",
        "\n",
        "Code Quality: Leads to cleaner, easier-to-maintain code.\n",
        "\n",
        "Problem Solving: Many algorithms rely on specific structures to work correctly."
      ],
      "metadata": {
        "id": "-7d13-9xyrEZ"
      }
    },
    {
      "cell_type": "markdown",
      "source": [
        "#2: Explain the difference between mutable and immutable data types with examples\n",
        "ANS: Mutable Data Types\n",
        "These can be changed after they're created.\n",
        "my_list = [10, 20, 30]\n",
        "my_list.append(40)\n",
        "print(my_list)  \n",
        "# Output: [10, 20, 30, 40]\n",
        " Immutable Data Types\n",
        "These cannot be changed after they're created. Any modification results in a new object.\n",
        "EXAMPLE: Strings\n",
        "\n",
        "Tuples\n",
        "\n",
        "Integers\n",
        "\n",
        "Floats\n",
        "\n",
        "Booleans"
      ],
      "metadata": {
        "id": "4xFoXMCey8Lw"
      }
    },
    {
      "cell_type": "markdown",
      "source": [
        "#3: What are the main differences between lists and tuples in Python\n",
        "ANS:  A list in Python is an ordered collection of items that is mutable, meaning its contents can be changed after creation.\n",
        "Tuples is an ordered collection of items that is immutable, meaning its contents cannot be changed after creation."
      ],
      "metadata": {
        "id": "tc2jeeC4zyfW"
      }
    },
    {
      "cell_type": "markdown",
      "source": [
        "#4: Describe how dictionaries store data\n",
        "ANS: dictionaries are implemented using hash tables, which allow for efficient data retrieval. Here's how they store data:\n",
        "\n",
        "Hash Tables\n",
        "Structure: A hash table is an array of fixed size, divided into \"buckets.\" Each bucket can hold multiple key-value pairs.\n",
        "\n",
        "Hashing: When a key-value pair is added, Python computes a hash value for the key using the hash() function. This hash value determines the index in the hash table where the pair should be stored.\n",
        "Handling Collisions: If two keys hash to the same index (a collision), Python resolves this by probing—searching for the next available slot using a specific algorithm.\n",
        "\n",
        "Resizing: To maintain efficiency, Python resizes the hash table when it becomes too full, typically when it reaches two-thirds capacity. This involves creating a new, larger table and rehashing existing keys to new indices."
      ],
      "metadata": {
        "id": "xmUlqNYH0TMt"
      }
    },
    {
      "cell_type": "markdown",
      "source": [
        "#5: Why might you use a set instead of a list in Python\n",
        "ANS: A set is a built-in data structure in Python that stores unordered, unique elements. You might choose a set over a list for a few key reasons\n",
        "Sets automatically remove duplicates.\n",
        "Sets use hash tables, making in checks much faster than lists.\n",
        "Sets support powerful math-style operations:\n",
        "\n",
        "Union (|)\n",
        "\n",
        "Intersection (&)\n",
        "\n",
        "Difference (-)\n",
        "\n",
        "Symmetric Difference (^)\n",
        "\n"
      ],
      "metadata": {
        "id": "QM9R0f4V08z8"
      }
    },
    {
      "cell_type": "markdown",
      "source": [
        "#6: What is a string in Python, and how is it different from a list?\n",
        "ANS: A string in Python is a sequence of characters enclosed in quotes (single ' ', double \" \", or triple ''' ''').\n",
        "STRING: Sequence of characters, Immutable (cannot be changed), Only characters (or unicode text)\n",
        "LIST: Sequence of any data types, Mutable (can be changed), Can contain mixed types (int, str, etC)"
      ],
      "metadata": {
        "id": "T5ZzIg5e1fee"
      }
    },
    {
      "cell_type": "markdown",
      "source": [
        "#7: How do tuples ensure data integrity in Python\n",
        "ANS: A tuple is an immutable sequence type in Python, meaning once it’s created, it cannot be changed. This immutability is what helps tuples ensure data integrity."
      ],
      "metadata": {
        "id": "B48k5efl2KS-"
      }
    },
    {
      "cell_type": "markdown",
      "source": [
        "#8: What is a hash table, and how does it relate to dictionaries in Python\n",
        "ANS: A hash table is a data structure that stores data in key-value pairs. It uses a hash function to map the key to a specific index in an array or list, where the corresponding value is stored. This allows for very fast lookups, insertions, and deletions.\n",
        "\n",
        "In Python, dictionaries are implemented using hash tables. When you create a dictionary, Python internally uses a hash table to map keys to their values."
      ],
      "metadata": {
        "id": "aKjOnp9-2fE4"
      }
    },
    {
      "cell_type": "markdown",
      "source": [
        "#9: Can lists contain different data types in Python\n",
        "Ans: Python lists are very flexible, so you can mix and match types however you want."
      ],
      "metadata": {
        "id": "8ttfO7FS6o9s"
      }
    },
    {
      "cell_type": "markdown",
      "source": [
        "#10: Explain why strings are immutable in Python\n",
        "Ans: Strings are immutable in Python because once a string is created, it cannot be changed—any operation that modifies a string actually creates a new string"
      ],
      "metadata": {
        "id": "aIjLbZQPri-K"
      }
    },
    {
      "cell_type": "markdown",
      "source": [
        "#11: What advantages do dictionaries offer over lists for certain tasks\n",
        "Ans: Dictionaries give you O(1) time complexity for looking up values by key.\n",
        "\n",
        "Lists require scanning through elements to find what you need — O(n) time.\n",
        "\n",
        "Dicts let you label data with descriptive keys, not just index numbers.\n",
        "\n",
        "Much easier to understand, especially for structured data."
      ],
      "metadata": {
        "id": "RgSSNBFVr9aB"
      }
    },
    {
      "cell_type": "markdown",
      "source": [
        "#12:  Describe a scenario where using a tuple would be preferable over a list\n",
        "Ans: Imagine you're building a map application, and you want to store fixed (latitude, longitude) points. Since these values shouldn’t be modified, a tuple is perfect"
      ],
      "metadata": {
        "id": "iAHz6DqEshlN"
      }
    },
    {
      "cell_type": "markdown",
      "source": [
        "#13: How do sets handle duplicate values in Python\n",
        "Ans: A set is an unordered collection of unique elements. If you try to add duplicates, Python just silently ignores them."
      ],
      "metadata": {
        "id": "5WSXU9r1sxF6"
      }
    },
    {
      "cell_type": "markdown",
      "source": [
        "#14: How does the “in” keyword work differently for lists and dictionaries\n",
        "Ans: The in keyword checks if a value exists in the list.\n",
        "The in keyword checks if a key exists in the dictionary — not the value."
      ],
      "metadata": {
        "id": "nrFN7v1ItQp3"
      }
    },
    {
      "cell_type": "markdown",
      "source": [
        "#15: Can you modify the elements of a tuple? Explain why or why not\n",
        "Ans: No, you can't modify the elements of a tuple — because tuples are immutable in Python."
      ],
      "metadata": {
        "id": "5NJ9iCupth5U"
      }
    },
    {
      "cell_type": "markdown",
      "source": [
        "#16: What is a nested dictionary, and give an example of its use case\n",
        "Ans: A nested dictionary is a dictionary where the values themselves are dictionaries. In other words, it's a dictionary that contains one or more dictionaries as its values.\n",
        "\n",
        "It’s like having a dictionary within a dictionary you can use it to represent more complex data structures.\n",
        "\n",
        "school = {\n",
        "    \"student1\": {\n",
        "        \"name\": \"Alice\",\n",
        "        \"age\": 15,\n",
        "        \"grades\": {\n",
        "            \"math\": 90,\n",
        "            \"science\": 85,\n",
        "            \"english\": 92\n",
        "        }\n",
        "    },\n",
        "    \"student2\": {\n",
        "        \"name\": \"Bob\",\n",
        "        \"age\": 16,\n",
        "        \"grades\": {\n",
        "            \"math\": 88,\n",
        "            \"science\": 82,\n",
        "            \"english\": 89\n",
        "        }\n",
        "    }\n",
        "}\n"
      ],
      "metadata": {
        "id": "LL4_n5SRttaY"
      }
    },
    {
      "cell_type": "markdown",
      "source": [
        "#17: Describe the time complexity of accessing elements in a dictionary\n",
        "Ans: When you access an element in a dictionary using a key (like my_dict[key]), the operation is amortized constant time: O(1).\n",
        "\n",
        "This means that accessing a value by key in a dictionary takes roughly the same amount of time, regardless of how many elements the dictionary contains."
      ],
      "metadata": {
        "id": "IWYnNPjxuJcB"
      }
    },
    {
      "cell_type": "markdown",
      "source": [
        "#18: In what situations are lists preferred over dictionaries\n",
        "Ans: Lists are ordered collections, meaning the order of elements is preserved. If you need to maintain the sequence of items, or you need to access elements by their index, then a list is your go-to choice."
      ],
      "metadata": {
        "id": "FIVruyakuVTf"
      }
    },
    {
      "cell_type": "markdown",
      "source": [
        "#19: Why are dictionaries considered unordered, and how does that affect data retrieval\n",
        "Ans: In Python, dictionaries are considered unordered because, internally, they don’t guarantee any specific order for their elements.\n",
        "\n",
        "This is because dictionaries are implemented using hash tables, where each key-value pair is placed into the table based on the hash value of the key. The order in which items are inserted does not necessarily affect how they are stored or retrieved."
      ],
      "metadata": {
        "id": "vdWdvYf6uiuT"
      }
    },
    {
      "cell_type": "markdown",
      "source": [
        "#20: Explain the difference between a list and a dictionary in terms of data retrieval.\n",
        "Ans: Ordered Data: A list is an ordered collection of items. This means that each item in a list has a specific position or index, starting from 0.\n",
        "\n",
        "Access by Index: To retrieve an element from a list, you use the index of the item. This is done using square brackets, like my_list[0].\n",
        "\n",
        "Unordered Data (but insertion order is preserved in Python 3.7+): A dictionary is an unordered collection of key-value pairs. This means there is no inherent order to the data, but starting from Python 3.7, dictionaries preserve the insertion order during iteration.\n",
        "\n",
        "Access by Key: To retrieve a value from a dictionary, you use the key. This is done using square brackets, like my_dict[\"key\"]."
      ],
      "metadata": {
        "id": "XGh__zuiu_P-"
      }
    },
    {
      "cell_type": "markdown",
      "source": [
        "#Practical Questions"
      ],
      "metadata": {
        "id": "LxUfgpOWvmW0"
      }
    },
    {
      "cell_type": "code",
      "source": [
        "#1: Write a code to create a string with your name and print itP\n",
        "\n",
        "# Creating a string with your name\n",
        "my_name = \"Arun\"\n",
        "\n",
        "# Printing the string\n",
        "print(\"My name is\", my_name)\n"
      ],
      "metadata": {
        "colab": {
          "base_uri": "https://localhost:8080/"
        },
        "id": "DUZ2Yo1jvqKZ",
        "outputId": "cf4e7c7a-5c01-46ff-a79a-4f3a1ffae3d9"
      },
      "execution_count": 1,
      "outputs": [
        {
          "output_type": "stream",
          "name": "stdout",
          "text": [
            "My name is Arun\n"
          ]
        }
      ]
    },
    {
      "cell_type": "code",
      "source": [
        "#2: Write a code to find the length of the string \"Hello World\n",
        "# Defining the string\n",
        "my_string = \"Hello World\"\n",
        "\n",
        "# Finding the length of the string\n",
        "length_of_string = len(my_string)\n",
        "\n",
        "# Printing the length\n",
        "print(\"The length of the string is:\", length_of_string)\n"
      ],
      "metadata": {
        "colab": {
          "base_uri": "https://localhost:8080/"
        },
        "id": "4KBoKoy3wRXU",
        "outputId": "0d64e92a-1bb0-4d6c-c5a7-c2dd2251a655"
      },
      "execution_count": 2,
      "outputs": [
        {
          "output_type": "stream",
          "name": "stdout",
          "text": [
            "The length of the string is: 11\n"
          ]
        }
      ]
    },
    {
      "cell_type": "code",
      "source": [
        "#3:  Write a code to slice the first 3 characters from the string \"Python Programming\"P\n",
        "# Defining the string\n",
        "my_string = \"Python Programming\"\n",
        "\n",
        "# Slicing the first 3 characters\n",
        "sliced_string = my_string[:3]\n",
        "\n",
        "# Printing the sliced string\n",
        "print(\"The first 3 characters are:\", sliced_string)\n"
      ],
      "metadata": {
        "colab": {
          "base_uri": "https://localhost:8080/"
        },
        "id": "zohKScymwbw6",
        "outputId": "a3f87ffc-fb8d-4c07-fd09-ae1fdde4c88b"
      },
      "execution_count": 3,
      "outputs": [
        {
          "output_type": "stream",
          "name": "stdout",
          "text": [
            "The first 3 characters are: Pyt\n"
          ]
        }
      ]
    },
    {
      "cell_type": "code",
      "source": [
        "#4: Write a code to convert the string \"hello\" to uppercaseP\n",
        "# Defining the string\n",
        "my_string = \"hello\"\n",
        "\n",
        "# Converting the string to uppercase\n",
        "uppercase_string = my_string.upper()\n",
        "\n",
        "# Printing the uppercase string\n",
        "print(\"The uppercase version is:\", uppercase_string)\n"
      ],
      "metadata": {
        "colab": {
          "base_uri": "https://localhost:8080/"
        },
        "id": "Hd__rG1Zwiwn",
        "outputId": "08f61cc1-8579-4431-8aaa-3e4ad0a142d7"
      },
      "execution_count": 4,
      "outputs": [
        {
          "output_type": "stream",
          "name": "stdout",
          "text": [
            "The uppercase version is: HELLO\n"
          ]
        }
      ]
    },
    {
      "cell_type": "code",
      "source": [
        "#5: Write a code to replace the word \"apple\" with \"orange\" in the string \"I like apple\"\n",
        "# Defining the string\n",
        "my_string = \"I like apple\"\n",
        "\n",
        "# Replacing \"apple\" with \"orange\"\n",
        "updated_string = my_string.replace(\"apple\", \"orange\")\n",
        "\n",
        "# Printing the updated string\n",
        "print(\"Updated string:\", updated_string)\n"
      ],
      "metadata": {
        "colab": {
          "base_uri": "https://localhost:8080/"
        },
        "id": "UaNskfNawpP8",
        "outputId": "e96cd4da-7cf0-4679-9a3c-11ad3ec36828"
      },
      "execution_count": 5,
      "outputs": [
        {
          "output_type": "stream",
          "name": "stdout",
          "text": [
            "Updated string: I like orange\n"
          ]
        }
      ]
    },
    {
      "cell_type": "code",
      "source": [
        "#6: Write a code to create a list with numbers 1 to 5 and print it\n",
        "# Creating the list with numbers 1 to 5\n",
        "my_list = [1, 2, 3, 4, 5]\n",
        "\n",
        "# Printing the list\n",
        "print(\"The list is:\", my_list)\n"
      ],
      "metadata": {
        "colab": {
          "base_uri": "https://localhost:8080/"
        },
        "id": "8AJT1WxGw0T8",
        "outputId": "67704193-d76d-4091-ca2c-2b9e4eebfc8f"
      },
      "execution_count": 6,
      "outputs": [
        {
          "output_type": "stream",
          "name": "stdout",
          "text": [
            "The list is: [1, 2, 3, 4, 5]\n"
          ]
        }
      ]
    },
    {
      "cell_type": "code",
      "source": [
        "#7: Write a code to append the number 10 to the list [1, 2, 3, 4]\n",
        "# Defining the list\n",
        "my_list = [1, 2, 3, 4]\n",
        "\n",
        "# Appending the number 10 to the list\n",
        "my_list.append(10)\n",
        "\n",
        "# Printing the updated list\n",
        "print(\"The updated list is:\", my_list)\n"
      ],
      "metadata": {
        "colab": {
          "base_uri": "https://localhost:8080/"
        },
        "id": "QUaHQgasw9A-",
        "outputId": "24b74061-731f-46e4-e171-a8e2c3d241ec"
      },
      "execution_count": 7,
      "outputs": [
        {
          "output_type": "stream",
          "name": "stdout",
          "text": [
            "The updated list is: [1, 2, 3, 4, 10]\n"
          ]
        }
      ]
    },
    {
      "cell_type": "code",
      "source": [
        "#8: Write a code to remove the number 3 from the list [1, 2, 3, 4, 5]\n",
        "# Defining the list\n",
        "my_list = [1, 2, 3, 4, 5]\n",
        "\n",
        "# Removing the number 3 from the list\n",
        "my_list.remove(3)\n",
        "\n",
        "# Printing the updated list\n",
        "print(\"The updated list is:\", my_list)\n"
      ],
      "metadata": {
        "colab": {
          "base_uri": "https://localhost:8080/"
        },
        "id": "d5_RkOlwxFvl",
        "outputId": "f67b48ba-e44a-44c7-a079-719a36050a02"
      },
      "execution_count": 8,
      "outputs": [
        {
          "output_type": "stream",
          "name": "stdout",
          "text": [
            "The updated list is: [1, 2, 4, 5]\n"
          ]
        }
      ]
    },
    {
      "cell_type": "code",
      "source": [
        "#9: Write a code to access the second element in the list ['a', 'b', 'c', 'd']\n",
        "# Defining the list\n",
        "my_list = ['a', 'b', 'c', 'd']\n",
        "\n",
        "# Accessing the second element (index 1)\n",
        "second_element = my_list[1]\n",
        "\n",
        "# Printing the second element\n",
        "print(\"The second element is:\", second_element)\n"
      ],
      "metadata": {
        "colab": {
          "base_uri": "https://localhost:8080/"
        },
        "id": "xR4i200mxOGR",
        "outputId": "ebca1e78-0668-4f45-f18c-df7d9c7a6797"
      },
      "execution_count": 9,
      "outputs": [
        {
          "output_type": "stream",
          "name": "stdout",
          "text": [
            "The second element is: b\n"
          ]
        }
      ]
    },
    {
      "cell_type": "code",
      "source": [
        "#10: Write a code to reverse the list [10, 20, 30, 40, 50].\n",
        "# Defining the list\n",
        "my_list = [10, 20, 30, 40, 50]\n",
        "\n",
        "# Reversing the list\n",
        "my_list.reverse()\n",
        "\n",
        "# Printing the reversed list\n",
        "print(\"The reversed list is:\", my_list)\n"
      ],
      "metadata": {
        "colab": {
          "base_uri": "https://localhost:8080/"
        },
        "id": "LxnnJ_IDxUvo",
        "outputId": "a7f1cb0b-8114-4d74-885c-054dd3e35e7a"
      },
      "execution_count": 10,
      "outputs": [
        {
          "output_type": "stream",
          "name": "stdout",
          "text": [
            "The reversed list is: [50, 40, 30, 20, 10]\n"
          ]
        }
      ]
    },
    {
      "cell_type": "code",
      "source": [
        "#11:  Write a code to create a tuple with the elements 100, 200, 300 and print it\n",
        "# Creating the tuple\n",
        "my_tuple = (100, 200, 300)\n",
        "\n",
        "# Printing the tuple\n",
        "print(\"The tuple is:\", my_tuple)\n"
      ],
      "metadata": {
        "colab": {
          "base_uri": "https://localhost:8080/"
        },
        "id": "3RZXZswIxfNo",
        "outputId": "3c2ef086-afb2-45b1-af9e-2d11c7dbc654"
      },
      "execution_count": 11,
      "outputs": [
        {
          "output_type": "stream",
          "name": "stdout",
          "text": [
            "The tuple is: (100, 200, 300)\n"
          ]
        }
      ]
    },
    {
      "cell_type": "code",
      "source": [
        "#12: Write a code to access the second-to-last element of the tuple ('red', 'green', 'blue', 'yellow').\n",
        "# Defining the tuple\n",
        "my_tuple = ('red', 'green', 'blue', 'yellow')\n",
        "\n",
        "# Accessing the second-to-last element\n",
        "second_to_last_element = my_tuple[-2]\n",
        "\n",
        "# Printing the second-to-last element\n",
        "print(\"The second-to-last element is:\", second_to_last_element)\n"
      ],
      "metadata": {
        "colab": {
          "base_uri": "https://localhost:8080/"
        },
        "id": "TaAPYerDxn30",
        "outputId": "49d28bfc-a65b-4ab5-cce4-78f39a48584f"
      },
      "execution_count": 12,
      "outputs": [
        {
          "output_type": "stream",
          "name": "stdout",
          "text": [
            "The second-to-last element is: blue\n"
          ]
        }
      ]
    },
    {
      "cell_type": "code",
      "source": [
        "#13:  Write a code to find the minimum number in the tuple (10, 20, 5, 15)\n",
        "# Defining the tuple\n",
        "my_tuple = (10, 20, 5, 15)\n",
        "\n",
        "# Finding the minimum number in the tuple\n",
        "min_number = min(my_tuple)\n",
        "\n",
        "# Printing the minimum number\n",
        "print(\"The minimum number in the tuple is:\", min_number)\n"
      ],
      "metadata": {
        "colab": {
          "base_uri": "https://localhost:8080/"
        },
        "id": "vQNgV-tXxx21",
        "outputId": "7718a5f3-d5bc-413e-a4db-77c6e0d7d796"
      },
      "execution_count": 13,
      "outputs": [
        {
          "output_type": "stream",
          "name": "stdout",
          "text": [
            "The minimum number in the tuple is: 5\n"
          ]
        }
      ]
    },
    {
      "cell_type": "code",
      "source": [
        "#14: Write a code to find the index of the element \"cat\" in the tuple ('dog', 'cat', 'rabbit')\n",
        "# Defining the tuple\n",
        "my_tuple = ('dog', 'cat', 'rabbit')\n",
        "\n",
        "# Finding the index of the element \"cat\"\n",
        "index_of_cat = my_tuple.index('cat')\n",
        "\n",
        "# Printing the index\n",
        "print(\"The index of 'cat' in the tuple is:\", index_of_cat)\n"
      ],
      "metadata": {
        "colab": {
          "base_uri": "https://localhost:8080/"
        },
        "id": "8eWhqLR6x8_F",
        "outputId": "a0954b09-30a7-4bee-fe60-fa530396d4c7"
      },
      "execution_count": 14,
      "outputs": [
        {
          "output_type": "stream",
          "name": "stdout",
          "text": [
            "The index of 'cat' in the tuple is: 1\n"
          ]
        }
      ]
    },
    {
      "cell_type": "code",
      "source": [
        "#15:  Write a code to create a tuple containing three different fruits and check if \"kiwi\" is in it.\n",
        "# Creating a tuple with three different fruits\n",
        "fruits_tuple = ('apple', 'banana', 'cherry')\n",
        "\n",
        "# Checking if \"kiwi\" is in the tuple\n",
        "is_kiwi_in_tuple = \"kiwi\" in fruits_tuple\n",
        "\n",
        "# Printing the result\n",
        "print(\"Is 'kiwi' in the tuple?\", is_kiwi_in_tuple)\n"
      ],
      "metadata": {
        "colab": {
          "base_uri": "https://localhost:8080/"
        },
        "id": "I7QOyAIDyI29",
        "outputId": "af2ab631-d3d1-4bd3-bcd8-44d2927553d0"
      },
      "execution_count": 15,
      "outputs": [
        {
          "output_type": "stream",
          "name": "stdout",
          "text": [
            "Is 'kiwi' in the tuple? False\n"
          ]
        }
      ]
    },
    {
      "cell_type": "code",
      "source": [
        "#16: Write a code to create a set with the elements 'a', 'b', 'c' and print it.\n",
        "# Creating the set\n",
        "my_set = {'a', 'b', 'c'}\n",
        "\n",
        "# Printing the set\n",
        "print(\"The set is:\", my_set)\n"
      ],
      "metadata": {
        "colab": {
          "base_uri": "https://localhost:8080/"
        },
        "id": "VVndl2-lyYiH",
        "outputId": "e8d9cd47-3ed5-45b3-a52e-fc9af0c1a78f"
      },
      "execution_count": 16,
      "outputs": [
        {
          "output_type": "stream",
          "name": "stdout",
          "text": [
            "The set is: {'c', 'a', 'b'}\n"
          ]
        }
      ]
    },
    {
      "cell_type": "code",
      "source": [
        "#17: Write a code to clear all elements from the set\n",
        "# Creating the set\n",
        "my_set = {'a', 'b', 'c'}\n",
        "\n",
        "# Clearing all elements from the set\n",
        "my_set.clear()\n",
        "\n",
        "# Printing the set after clearing\n",
        "print(\"The set after clearing all elements:\", my_set)\n"
      ],
      "metadata": {
        "colab": {
          "base_uri": "https://localhost:8080/"
        },
        "id": "3ppfga-dyfJX",
        "outputId": "d65a5bd3-c134-4cc9-91fd-3a16112d3228"
      },
      "execution_count": 17,
      "outputs": [
        {
          "output_type": "stream",
          "name": "stdout",
          "text": [
            "The set after clearing all elements: set()\n"
          ]
        }
      ]
    },
    {
      "cell_type": "code",
      "source": [
        "#18: Write a code to remove the element 4 from the set {1, 2, 3, 4}.\n",
        "# Creating the set\n",
        "my_set = {1, 2, 3, 4}\n",
        "\n",
        "# Removing the element 4 from the set\n",
        "my_set.remove(4)\n",
        "\n",
        "# Printing the set after removal\n",
        "print(\"The set after removing 4:\", my_set)\n"
      ],
      "metadata": {
        "colab": {
          "base_uri": "https://localhost:8080/"
        },
        "id": "cwt45aVdymY6",
        "outputId": "78859324-d0c5-44e5-c440-a73ec708c640"
      },
      "execution_count": 18,
      "outputs": [
        {
          "output_type": "stream",
          "name": "stdout",
          "text": [
            "The set after removing 4: {1, 2, 3}\n"
          ]
        }
      ]
    },
    {
      "cell_type": "code",
      "source": [
        "#19: Write a code to find the union of two sets {1, 2, 3} and {3, 4, 5}\n",
        "# Defining the two sets\n",
        "set1 = {1, 2, 3}\n",
        "set2 = {3, 4, 5}\n",
        "\n",
        "# Finding the union of the two sets\n",
        "union_set = set1.union(set2)\n",
        "\n",
        "# Printing the union of the sets\n",
        "print(\"The union of the sets is:\", union_set)\n"
      ],
      "metadata": {
        "colab": {
          "base_uri": "https://localhost:8080/"
        },
        "id": "SylsaOaeyuMA",
        "outputId": "8af2e610-d42e-41ef-8a58-31ca00209764"
      },
      "execution_count": 19,
      "outputs": [
        {
          "output_type": "stream",
          "name": "stdout",
          "text": [
            "The union of the sets is: {1, 2, 3, 4, 5}\n"
          ]
        }
      ]
    },
    {
      "cell_type": "code",
      "source": [
        "#20: Write a code to find the intersection of two sets {1, 2, 3} and {2, 3, 4}.\n",
        "# Defining the two sets\n",
        "set1 = {1, 2, 3}\n",
        "set2 = {2, 3, 4}\n",
        "\n",
        "# Finding the intersection of the two sets\n",
        "intersection_set = set1.intersection(set2)\n",
        "\n",
        "# Printing the intersection of the sets\n",
        "print(\"The intersection of the sets is:\", intersection_set)\n"
      ],
      "metadata": {
        "colab": {
          "base_uri": "https://localhost:8080/"
        },
        "id": "u0q41I7Xy5m_",
        "outputId": "c581cf1b-54b4-4388-d675-798ac7c619d7"
      },
      "execution_count": 20,
      "outputs": [
        {
          "output_type": "stream",
          "name": "stdout",
          "text": [
            "The intersection of the sets is: {2, 3}\n"
          ]
        }
      ]
    },
    {
      "cell_type": "code",
      "source": [
        "#21:  Write a code to create a dictionary with the keys \"name\", \"age\", and \"city\", and print it.\n",
        "# Creating the dictionary\n",
        "my_dict = {\n",
        "    \"name\": \"Alice\",\n",
        "    \"age\": 25,\n",
        "    \"city\": \"New York\"\n",
        "}\n",
        "\n",
        "# Printing the dictionary\n",
        "print(\"The dictionary is:\", my_dict)\n"
      ],
      "metadata": {
        "colab": {
          "base_uri": "https://localhost:8080/"
        },
        "id": "zHXkIPPizCAs",
        "outputId": "28c3ce37-db6e-4b40-dc56-7491b606f889"
      },
      "execution_count": 22,
      "outputs": [
        {
          "output_type": "stream",
          "name": "stdout",
          "text": [
            "The dictionary is: {'name': 'Alice', 'age': 25, 'city': 'New York'}\n"
          ]
        }
      ]
    },
    {
      "cell_type": "code",
      "source": [
        "#22:  Write a code to add a new key-value pair \"country\": \"USA\" to the dictionary {'name': 'John', 'age': 25}.\n",
        "# Defining the dictionary\n",
        "my_dict = {'name': 'John', 'age': 25}\n",
        "\n",
        "# Adding a new key-value pair\n",
        "my_dict['country'] = 'USA'\n",
        "\n",
        "# Printing the updated dictionary\n",
        "print(\"The updated dictionary is:\", my_dict)\n"
      ],
      "metadata": {
        "colab": {
          "base_uri": "https://localhost:8080/"
        },
        "id": "OQWZKFRAzNb6",
        "outputId": "680eaa6c-f260-4307-ba41-7bc8bc262bc8"
      },
      "execution_count": 21,
      "outputs": [
        {
          "output_type": "stream",
          "name": "stdout",
          "text": [
            "The updated dictionary is: {'name': 'John', 'age': 25, 'country': 'USA'}\n"
          ]
        }
      ]
    },
    {
      "cell_type": "code",
      "source": [
        "#23: Write a code to access the value associated with the key \"name\" in the dictionary {'name': 'Alice', 'age': 30}.\n",
        "# Defining the dictionary\n",
        "my_dict = {'name': 'Alice', 'age': 30}\n",
        "\n",
        "# Accessing the value associated with the key \"name\"\n",
        "name_value = my_dict['name']\n",
        "\n",
        "# Printing the value\n",
        "print(\"The value associated with the key 'name' is:\", name_value)\n"
      ],
      "metadata": {
        "colab": {
          "base_uri": "https://localhost:8080/"
        },
        "id": "cdX91M75zVne",
        "outputId": "538b7be9-5c2b-423c-bc15-55a779cdcedd"
      },
      "execution_count": 23,
      "outputs": [
        {
          "output_type": "stream",
          "name": "stdout",
          "text": [
            "The value associated with the key 'name' is: Alice\n"
          ]
        }
      ]
    },
    {
      "cell_type": "code",
      "source": [
        "#24: Write a code to remove the key \"age\" from the dictionary {'name': 'Bob', 'age': 22, 'city': 'New York'}\n",
        "# Defining the dictionary\n",
        "my_dict = {'name': 'Bob', 'age': 22, 'city': 'New York'}\n",
        "\n",
        "# Removing the key \"age\" from the dictionary\n",
        "del my_dict['age']\n",
        "\n",
        "# Printing the updated dictionary\n",
        "print(\"The updated dictionary is:\", my_dict)\n"
      ],
      "metadata": {
        "colab": {
          "base_uri": "https://localhost:8080/"
        },
        "id": "uWf5q-wKzey7",
        "outputId": "d849ad07-f455-43e3-9109-906e46dd5a10"
      },
      "execution_count": 24,
      "outputs": [
        {
          "output_type": "stream",
          "name": "stdout",
          "text": [
            "The updated dictionary is: {'name': 'Bob', 'city': 'New York'}\n"
          ]
        }
      ]
    },
    {
      "cell_type": "code",
      "source": [
        "#25: Write a code to check if the key \"city\" exists in the dictionary {'name': 'Alice', 'city': 'Paris'}.\n",
        "# Defining the dictionary\n",
        "my_dict = {'name': 'Alice', 'city': 'Paris'}\n",
        "\n",
        "# Checking if the key \"city\" exists in the dictionary\n",
        "if 'city' in my_dict:\n",
        "    print(\"The key 'city' exists in the dictionary.\")\n",
        "else:\n",
        "    print(\"The key 'city' does not exist in the dictionary.\")\n"
      ],
      "metadata": {
        "colab": {
          "base_uri": "https://localhost:8080/"
        },
        "id": "95IJbUBdzopK",
        "outputId": "04af07b3-215d-4195-b792-175c4e08727a"
      },
      "execution_count": 26,
      "outputs": [
        {
          "output_type": "stream",
          "name": "stdout",
          "text": [
            "The key 'city' exists in the dictionary.\n"
          ]
        }
      ]
    },
    {
      "cell_type": "code",
      "source": [
        "#26: Write a code to create a list, a tuple, and a dictionary, and print them all\n",
        "# Creating a list\n",
        "my_list = [1, 2, 3, 4, 5]\n",
        "\n",
        "# Creating a tuple\n",
        "my_tuple = ('apple', 'banana', 'cherry')\n",
        "\n",
        "# Creating a dictionary\n",
        "my_dict = {'name': 'Alice', 'age': 30, 'city': 'New York'}\n",
        "\n",
        "# Printing the list, tuple, and dictionary\n",
        "print(\"The list is:\", my_list)\n",
        "print(\"The tuple is:\", my_tuple)\n",
        "print(\"The dictionary is:\", my_dict)\n"
      ],
      "metadata": {
        "colab": {
          "base_uri": "https://localhost:8080/"
        },
        "id": "jWiWCBq1zyc9",
        "outputId": "0e868005-bdb3-4e13-c7d8-51c739d138f2"
      },
      "execution_count": 27,
      "outputs": [
        {
          "output_type": "stream",
          "name": "stdout",
          "text": [
            "The list is: [1, 2, 3, 4, 5]\n",
            "The tuple is: ('apple', 'banana', 'cherry')\n",
            "The dictionary is: {'name': 'Alice', 'age': 30, 'city': 'New York'}\n"
          ]
        }
      ]
    },
    {
      "cell_type": "code",
      "source": [
        "#27: Write a code to create a list of 5 random numbers between 1 and 100, sort it in ascending order, and print the\n",
        "# result.(replaced)\n",
        "import random\n",
        "\n",
        "# Creating a list of 5 random numbers between 1 and 100\n",
        "random_numbers = [random.randint(1, 100) for _ in range(5)]\n",
        "\n",
        "# Sorting the list in ascending order\n",
        "random_numbers.sort()\n",
        "\n",
        "# Printing the sorted list\n",
        "print(\"The sorted list of random numbers is:\", random_numbers)\n"
      ],
      "metadata": {
        "colab": {
          "base_uri": "https://localhost:8080/"
        },
        "id": "UdU8Geaw0Eu7",
        "outputId": "0c5ca8f8-af69-49b4-cf29-cda926163f90"
      },
      "execution_count": 28,
      "outputs": [
        {
          "output_type": "stream",
          "name": "stdout",
          "text": [
            "The sorted list of random numbers is: [30, 32, 87, 89, 97]\n"
          ]
        }
      ]
    },
    {
      "cell_type": "code",
      "source": [
        "#28. Write a code to create a list with strings and print the element at the third index.\n",
        "# Creating a list of strings\n",
        "my_list = ['apple', 'banana', 'cherry', 'date', 'elderberry']\n",
        "\n",
        "# Accessing the element at the third index (index 3)\n",
        "third_index_element = my_list[3]\n",
        "\n",
        "# Printing the element at the third index\n",
        "print(\"The element at the third index is:\", third_index_element)\n"
      ],
      "metadata": {
        "colab": {
          "base_uri": "https://localhost:8080/"
        },
        "id": "CP-bY91M0POp",
        "outputId": "f6ae5cd9-637a-4670-8dc6-381f80577793"
      },
      "execution_count": 29,
      "outputs": [
        {
          "output_type": "stream",
          "name": "stdout",
          "text": [
            "The element at the third index is: date\n"
          ]
        }
      ]
    },
    {
      "cell_type": "code",
      "source": [
        "#29:  Write a code to combine two dictionaries into one and print the result.\n",
        "# Defining two dictionaries\n",
        "dict1 = {'name': 'Alice', 'age': 30}\n",
        "dict2 = {'city': 'New York', 'job': 'Engineer'}\n",
        "\n",
        "# Combining the two dictionaries\n",
        "combined_dict = {**dict1, **dict2}\n",
        "\n",
        "# Printing the combined dictionary\n",
        "print(\"The combined dictionary is:\", combined_dict)\n"
      ],
      "metadata": {
        "colab": {
          "base_uri": "https://localhost:8080/"
        },
        "id": "kz_TSlUS0lhy",
        "outputId": "af257c68-0a4f-4c2b-f5b5-6895c68369c3"
      },
      "execution_count": 30,
      "outputs": [
        {
          "output_type": "stream",
          "name": "stdout",
          "text": [
            "The combined dictionary is: {'name': 'Alice', 'age': 30, 'city': 'New York', 'job': 'Engineer'}\n"
          ]
        }
      ]
    },
    {
      "cell_type": "code",
      "source": [
        "#30: Write a code to convert a list of strings into a set\n",
        "# Creating a list of strings\n",
        "my_list = ['apple', 'banana', 'cherry', 'apple', 'banana']\n",
        "\n",
        "# Converting the list to a set\n",
        "my_set = set(my_list)\n",
        "\n",
        "# Printing the set\n",
        "print(\"The set is:\", my_set)\n"
      ],
      "metadata": {
        "colab": {
          "base_uri": "https://localhost:8080/"
        },
        "id": "MRRZr1Wc02TT",
        "outputId": "5be884a2-ec93-471d-fd66-79a4088209c8"
      },
      "execution_count": 31,
      "outputs": [
        {
          "output_type": "stream",
          "name": "stdout",
          "text": [
            "The set is: {'apple', 'banana', 'cherry'}\n"
          ]
        }
      ]
    }
  ]
}